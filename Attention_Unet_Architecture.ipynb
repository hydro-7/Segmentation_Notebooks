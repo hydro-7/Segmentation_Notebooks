{
  "nbformat": 4,
  "nbformat_minor": 0,
  "metadata": {
    "colab": {
      "provenance": [],
      "authorship_tag": "ABX9TyP146zaDJ/ZgImN5zL2GHsT",
      "include_colab_link": true
    },
    "kernelspec": {
      "name": "python3",
      "display_name": "Python 3"
    },
    "language_info": {
      "name": "python"
    }
  },
  "cells": [
    {
      "cell_type": "markdown",
      "metadata": {
        "id": "view-in-github",
        "colab_type": "text"
      },
      "source": [
        "<a href=\"https://colab.research.google.com/github/hydro-7/Segmentation_Notebooks/blob/main/Attention_Unet_Architecture.ipynb\" target=\"_parent\"><img src=\"https://colab.research.google.com/assets/colab-badge.svg\" alt=\"Open In Colab\"/></a>"
      ]
    },
    {
      "cell_type": "code",
      "execution_count": null,
      "metadata": {
        "id": "Qh-4P3zDKkEP"
      },
      "outputs": [],
      "source": [
        "import torch\n",
        "import torch.nn as nn"
      ]
    },
    {
      "cell_type": "code",
      "source": [
        "class conv_block(nn.Module):\n",
        "    def __init__(self, in_c, out_c):\n",
        "        super().__init__()\n",
        "\n",
        "        self.conv = nn.Sequential(\n",
        "            nn.Conv2d(in_c, out_c, kernel_size=3, padding=1),\n",
        "            nn.BatchNorm2d(out_c),\n",
        "            nn.ReLU(inplace=True),\n",
        "            nn.Conv2d(out_c, out_c, kernel_size=3, padding=1),\n",
        "            nn.BatchNorm2d(out_c),\n",
        "            nn.ReLU(inplace=True)\n",
        "        )\n",
        "\n",
        "    def forward(self, x):\n",
        "        return self.conv(x)\n",
        "\n",
        "class encoder_block(nn.Module):\n",
        "    def __init__(self, in_c, out_c):\n",
        "        super().__init__()\n",
        "\n",
        "        self.conv = conv_block(in_c, out_c)\n",
        "        self.pool = nn.MaxPool2d((2, 2))\n",
        "\n",
        "    def forward(self, x):\n",
        "        s = self.conv(x)\n",
        "        p = self.pool(s)\n",
        "        return s, p\n",
        "\n",
        "class attention_gate(nn.Module):\n",
        "    def __init__(self, in_c, out_c):\n",
        "        super().__init__()\n",
        "\n",
        "        self.Wg = nn.Sequential(\n",
        "            nn.Conv2d(in_c[0], out_c, kernel_size=1, padding=0),\n",
        "            nn.BatchNorm2d(out_c)\n",
        "        )\n",
        "        self.Ws = nn.Sequential(\n",
        "            nn.Conv2d(in_c[1], out_c, kernel_size=1, padding=0),\n",
        "            nn.BatchNorm2d(out_c)\n",
        "        )\n",
        "        self.relu = nn.ReLU(inplace=True)\n",
        "        self.output = nn.Sequential(\n",
        "            nn.Conv2d(out_c, out_c, kernel_size=1, padding=0),\n",
        "            nn.Sigmoid()\n",
        "        )\n",
        "\n",
        "    def forward(self, g, s):\n",
        "        Wg = self.Wg(g)\n",
        "        Ws = self.Ws(s)\n",
        "        out = self.relu(Wg + Ws)\n",
        "        out = self.output(out)\n",
        "        return out * s\n",
        "\n",
        "class decoder_block(nn.Module):\n",
        "    def __init__(self, in_c, out_c):\n",
        "        super().__init__()\n",
        "\n",
        "        self.up = nn.Upsample(scale_factor=2, mode=\"bilinear\", align_corners=True)\n",
        "        self.ag = attention_gate(in_c, out_c)\n",
        "        self.c1 = conv_block(in_c[0]+out_c, out_c)\n",
        "\n",
        "    def forward(self, x, s):\n",
        "        x = self.up(x)\n",
        "        s = self.ag(x, s)\n",
        "        x = torch.cat([x, s], axis=1)\n",
        "        x = self.c1(x)\n",
        "        return x\n",
        "\n",
        "class attention_unet(nn.Module):\n",
        "    def __init__(self):\n",
        "        super().__init__()\n",
        "\n",
        "        self.e1 = encoder_block(3, 64)\n",
        "        self.e2 = encoder_block(64, 128)\n",
        "        self.e3 = encoder_block(128, 256)\n",
        "\n",
        "        self.b1 = conv_block(256, 512)\n",
        "\n",
        "        self.d1 = decoder_block([512, 256], 256)\n",
        "        self.d2 = decoder_block([256, 128], 128)\n",
        "        self.d3 = decoder_block([128, 64], 64)\n",
        "\n",
        "        self.output = nn.Conv2d(64, 1, kernel_size=1, padding=0)\n",
        "\n",
        "    def forward(self, x):\n",
        "        s1, p1 = self.e1(x)\n",
        "        s2, p2 = self.e2(p1)\n",
        "        s3, p3 = self.e3(p2)\n",
        "\n",
        "        b1 = self.b1(p3)\n",
        "\n",
        "        d1 = self.d1(b1, s3)\n",
        "        d2 = self.d2(d1, s2)\n",
        "        d3 = self.d3(d2, s1)\n",
        "\n",
        "        output = self.output(d3)\n",
        "        return output\n",
        "\n",
        "\n",
        "if __name__ == \"__main__\":\n",
        "    x = torch.randn((8, 3, 256, 256))\n",
        "    model = attention_unet()\n",
        "    output = model(x)\n",
        "    print(output.shape)"
      ],
      "metadata": {
        "id": "BU4PFcncLQ2V"
      },
      "execution_count": null,
      "outputs": []
    }
  ]
}